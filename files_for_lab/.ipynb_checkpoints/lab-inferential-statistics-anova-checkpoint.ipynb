{
 "cells": [
  {
   "cell_type": "code",
   "execution_count": 7,
   "id": "c15bc0d6-1348-43cb-8732-05f4b7aa4e1e",
   "metadata": {},
   "outputs": [],
   "source": [
    "import pandas as pd\n",
    "import pandas as pd\n",
    "from scipy.stats import f_oneway\n"
   ]
  },
  {
   "cell_type": "code",
   "execution_count": 6,
   "id": "f674c158-7126-4c98-804b-883cca5dfb50",
   "metadata": {},
   "outputs": [
    {
     "name": "stdout",
     "output_type": "stream",
     "text": [
      "   Power   Etching Rate\n",
      "0   160 W          5.43\n",
      "1   180 W          6.24\n",
      "2   200 W          8.79\n",
      "3   160 W          5.71\n",
      "4   180 W          6.71\n",
      "5   200 W          9.20\n",
      "6   160 W          6.22\n",
      "7   180 W          5.98\n",
      "8   200 W          7.90\n",
      "9   160 W          6.01\n",
      "10  180 W          5.66\n",
      "11  200 W          8.15\n",
      "12  160 W          5.59\n",
      "13  180 W          6.60\n",
      "14  200 W          7.55\n"
     ]
    }
   ],
   "source": [
    "data = pd.read_excel('anova_lab_data.xlsx')\n",
    "print(data)"
   ]
  },
  {
   "cell_type": "markdown",
   "id": "9642c968-dc59-4dbd-98e8-5f573569212a",
   "metadata": {},
   "source": [
    "Null Hypothesis (H0): There is no significant difference in the mean etching rate among different levels of power in the plasma etching process.\n",
    "\n",
    "Alternative Hypothesis (H1): There is a significant difference in the mean etching rate among different levels of power in the plasma etching process.\n",
    "\n",
    "Significance Level (α): This is the threshold for determining statistical significance. Commonly used values are 0.05 or 0.01. Let's assume α = 0.05 for this case.\n",
    "\n",
    "Degrees of Freedom:\n",
    "In ANOVA, there are three sources of degrees of freedom: 14-1=13"
   ]
  },
  {
   "cell_type": "code",
   "execution_count": 10,
   "id": "d26f461c-206c-4cfe-9baa-7510fc16391f",
   "metadata": {},
   "outputs": [
    {
     "data": {
      "text/plain": [
       "Index(['Power ', 'Etching Rate'], dtype='object')"
      ]
     },
     "execution_count": 10,
     "metadata": {},
     "output_type": "execute_result"
    }
   ],
   "source": [
    "data.columns"
   ]
  },
  {
   "cell_type": "code",
   "execution_count": 12,
   "id": "db9b0adb-2256-47e6-8ff6-9583153a8892",
   "metadata": {},
   "outputs": [
    {
     "name": "stdout",
     "output_type": "stream",
     "text": [
      "p_value= 7.506584272358903e-06\n",
      "There is sufficient evidence to conclude that there is a significant difference in mean etching rates among different power levels.\n"
     ]
    }
   ],
   "source": [
    "power_levels = data['Power ']\n",
    "etching_rates = data['Etching Rate']\n",
    "f_statistic, p_value = f_oneway(*[etching_rates[power_levels == level] for level in power_levels.unique()])\n",
    "alpha = 0.05\n",
    "print('p_value=',p_value)\n",
    "if p_value < alpha:\n",
    "    print(\"There is sufficient evidence to conclude that there is a significant difference in mean etching rates among different power levels.\")\n",
    "else:\n",
    "    print(\"There is not sufficient evidence to conclude that there is a significant difference in mean etching rates among different power levels.\")"
   ]
  },
  {
   "cell_type": "code",
   "execution_count": null,
   "id": "6e0c73d9-9aa0-4b5e-b07c-5b8911b8bbda",
   "metadata": {},
   "outputs": [],
   "source": []
  }
 ],
 "metadata": {
  "kernelspec": {
   "display_name": "Python 3 (ipykernel)",
   "language": "python",
   "name": "python3"
  },
  "language_info": {
   "codemirror_mode": {
    "name": "ipython",
    "version": 3
   },
   "file_extension": ".py",
   "mimetype": "text/x-python",
   "name": "python",
   "nbconvert_exporter": "python",
   "pygments_lexer": "ipython3",
   "version": "3.9.12"
  }
 },
 "nbformat": 4,
 "nbformat_minor": 5
}
